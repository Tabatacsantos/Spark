{
  "nbformat": 4,
  "nbformat_minor": 0,
  "metadata": {
    "colab": {
      "provenance": [],
      "collapsed_sections": [
        "ZlYblfBc4reG",
        "YXUZf3-S3LUt",
        "iyMbvNEufpH2",
        "XXHQmn9NJA70",
        "pcrxPblxrD_I"
      ],
      "include_colab_link": true
    },
    "kernelspec": {
      "name": "python3",
      "display_name": "Python 3"
    },
    "language_info": {
      "name": "python"
    }
  },
  "cells": [
    {
      "cell_type": "markdown",
      "metadata": {
        "id": "view-in-github",
        "colab_type": "text"
      },
      "source": [
        "<a href=\"https://colab.research.google.com/github/Tabatacsantos/Spark/blob/main/Casas_de_SP__ML_Spark.ipynb\" target=\"_parent\"><img src=\"https://colab.research.google.com/assets/colab-badge.svg\" alt=\"Open In Colab\"/></a>"
      ]
    },
    {
      "cell_type": "markdown",
      "source": [
        "# Instalação do Spark"
      ],
      "metadata": {
        "id": "ZlYblfBc4reG"
      }
    },
    {
      "cell_type": "code",
      "execution_count": null,
      "metadata": {
        "colab": {
          "base_uri": "https://localhost:8080/"
        },
        "id": "FJQuelrU3Eab",
        "outputId": "0c876b36-a82d-4d6f-844c-071777aeda50"
      },
      "outputs": [
        {
          "output_type": "stream",
          "name": "stdout",
          "text": [
            "Looking in indexes: https://pypi.org/simple, https://us-python.pkg.dev/colab-wheels/public/simple/\n",
            "Collecting pyspark\n",
            "  Downloading pyspark-3.3.1.tar.gz (281.4 MB)\n",
            "\u001b[2K     \u001b[90m━━━━━━━━━━━━━━━━━━━━━━━━━━━━━━━━━━━━━━━\u001b[0m \u001b[32m281.4/281.4 MB\u001b[0m \u001b[31m3.6 MB/s\u001b[0m eta \u001b[36m0:00:00\u001b[0m\n",
            "\u001b[?25h  Preparing metadata (setup.py) ... \u001b[?25l\u001b[?25hdone\n",
            "Collecting py4j==0.10.9.5\n",
            "  Downloading py4j-0.10.9.5-py2.py3-none-any.whl (199 kB)\n",
            "\u001b[2K     \u001b[90m━━━━━━━━━━━━━━━━━━━━━━━━━━━━━━━━━━━━━━━\u001b[0m \u001b[32m199.7/199.7 KB\u001b[0m \u001b[31m9.0 MB/s\u001b[0m eta \u001b[36m0:00:00\u001b[0m\n",
            "\u001b[?25hBuilding wheels for collected packages: pyspark\n",
            "  Building wheel for pyspark (setup.py) ... \u001b[?25l\u001b[?25hdone\n",
            "  Created wheel for pyspark: filename=pyspark-3.3.1-py2.py3-none-any.whl size=281845512 sha256=b35c22a4a22244ad041b5db99f66c8f622a08edf8489191d75cb5673811033ba\n",
            "  Stored in directory: /root/.cache/pip/wheels/43/dc/11/ec201cd671da62fa9c5cc77078235e40722170ceba231d7598\n",
            "Successfully built pyspark\n",
            "Installing collected packages: py4j, pyspark\n",
            "Successfully installed py4j-0.10.9.5 pyspark-3.3.1\n"
          ]
        }
      ],
      "source": [
        "#Instando Spark\n",
        "!pip install pyspark"
      ]
    },
    {
      "cell_type": "code",
      "source": [
        "# iniciar uma sessão local\n",
        "from pyspark.sql import SparkSession\n",
        "\n",
        "spark = SparkSession.builder \\\n",
        "    .master('local[*]') \\\n",
        "    .appName(\"Regressão com Spark\") \\\n",
        "    .getOrCreate()\n",
        "\n",
        "spark"
      ],
      "metadata": {
        "colab": {
          "base_uri": "https://localhost:8080/",
          "height": 219
        },
        "id": "7_iu_o5R3UIH",
        "outputId": "d880aa2d-c8c2-45c2-fe77-c9f10f81b643"
      },
      "execution_count": null,
      "outputs": [
        {
          "output_type": "execute_result",
          "data": {
            "text/plain": [
              "<pyspark.sql.session.SparkSession at 0x7fde0830fca0>"
            ],
            "text/html": [
              "\n",
              "            <div>\n",
              "                <p><b>SparkSession - in-memory</b></p>\n",
              "                \n",
              "        <div>\n",
              "            <p><b>SparkContext</b></p>\n",
              "\n",
              "            <p><a href=\"http://534218b85388:4040\">Spark UI</a></p>\n",
              "\n",
              "            <dl>\n",
              "              <dt>Version</dt>\n",
              "                <dd><code>v3.3.1</code></dd>\n",
              "              <dt>Master</dt>\n",
              "                <dd><code>local[*]</code></dd>\n",
              "              <dt>AppName</dt>\n",
              "                <dd><code>Regressão com Spark</code></dd>\n",
              "            </dl>\n",
              "        </div>\n",
              "        \n",
              "            </div>\n",
              "        "
            ]
          },
          "metadata": {},
          "execution_count": 2
        }
      ]
    },
    {
      "cell_type": "code",
      "source": [
        "from google.colab import drive\n",
        "drive.mount('/content/drive')"
      ],
      "metadata": {
        "colab": {
          "base_uri": "https://localhost:8080/"
        },
        "id": "HeFS2-7bqGM0",
        "outputId": "03a0831d-6cda-4af1-f9c4-898bcb4ba13e"
      },
      "execution_count": null,
      "outputs": [
        {
          "output_type": "stream",
          "name": "stdout",
          "text": [
            "Mounted at /content/drive\n"
          ]
        }
      ]
    },
    {
      "cell_type": "markdown",
      "source": [
        "# <font color=orange> Previsão de preços de casas na cidade de São Paulo\n",
        "\n",
        "![WhatsApp Image 2022-07-12 at 21.00.51.jpeg](data:image/jpeg;base64,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)\n",
        "\n",
        "\n",
        "https://www.kaggle.com/datasets/kaggleshashankk/house-price-data-of-sao-paulo"
      ],
      "metadata": {
        "id": "YXUZf3-S3LUt"
      }
    },
    {
      "cell_type": "code",
      "source": [
        "import pandas as pd\n",
        "from pyspark.sql import SparkSession"
      ],
      "metadata": {
        "id": "TtcJPSPFjXuo"
      },
      "execution_count": null,
      "outputs": []
    },
    {
      "cell_type": "code",
      "source": [
        "path = '/content/drive/MyDrive/a-Projetos_DC/HouseSP.txt'\n",
        "df = spark.read.csv(path, sep=',', inferSchema=True, header=True)"
      ],
      "metadata": {
        "id": "SfgKfMX9uANH"
      },
      "execution_count": null,
      "outputs": []
    },
    {
      "cell_type": "code",
      "source": [
        "# Importação das bibliotecas para visualização de gráficos\n",
        "import seaborn as sns\n",
        "import matplotlib.pyplot as plt"
      ],
      "metadata": {
        "id": "eb4CayFAuN30"
      },
      "execution_count": null,
      "outputs": []
    },
    {
      "cell_type": "code",
      "source": [
        "#Visualização do DataFrame\n",
        "df.show(truncate=False)"
      ],
      "metadata": {
        "colab": {
          "base_uri": "https://localhost:8080/"
        },
        "id": "UB0-GE3Z4UvZ",
        "outputId": "440a4665-b872-4c04-c638-a58be070bb7b"
      },
      "execution_count": null,
      "outputs": [
        {
          "output_type": "stream",
          "name": "stdout",
          "text": [
            "+----------------------------------------------+-------------------+---------+--------+-------+---------+-----+------------+\n",
            "|Rua                                           |Bairro             |Cidade   |Metragem|Quartos|Banheiros|Vagas|Valor       |\n",
            "+----------------------------------------------+-------------------+---------+--------+-------+---------+-----+------------+\n",
            "|Avenida Itacira, 255                          |Planalto Paulista  |São Paulo|1000    |4      |8        |6    |R$ 7.000.000|\n",
            "|Rua Aurelia Perez Alvarez, 42                 |Jardim dos Estados |São Paulo|496     |4      |4        |4    |R$ 3.700.000|\n",
            "|Rua Alba Valdez                               |Jardim Reimberg    |São Paulo|125     |4      |3        |2    |R$ 380.000  |\n",
            "|null                                          |Jardim Morumbi     |São Paulo|310     |3      |2        |4    |R$ 685.000  |\n",
            "|Rua Tobias Barreto, 195                       |Mooca              |São Paulo|100     |3      |2        |2    |R$ 540.000  |\n",
            "|Rua Graham Bell                               |Santo Amaro        |São Paulo|440     |4      |4        |6    |R$ 1.980.000|\n",
            "|Rua Francisco Paulo, 31                       |Cidade Mãe do Céu  |São Paulo|145     |4      |4        |2    |R$ 850.000  |\n",
            "|Rua Guilherme Valente, 150                    |Jardim Vergueiro   |São Paulo|150     |2      |2        |2    |R$ 450.000  |\n",
            "|Rua Sagrada Família, 8                        |Jardim Benfica     |São Paulo|48      |2      |1        |1    |R$ 199.900  |\n",
            "|Rua Tapaji                                    |Vila Alpina        |São Paulo|114     |3      |3        |2    |R$ 585.000  |\n",
            "|Rua Vigário João Álvares, 66                  |Vila Monumento     |São Paulo|261     |4      |4        |3    |R$ 700.000  |\n",
            "|null                                          |Jardim Luzitânia   |São Paulo|436     |4      |3        |3    |R$ 15.000   |\n",
            "|Rua Tuim, 449                                 |Vila Uberabinha    |São Paulo|193     |3      |3        |2    |R$ 2.500.000|\n",
            "|Rua Antônio Pereira Mendes, 98                |Jardim Prudência   |São Paulo|251     |3      |5        |4    |R$ 1.700.000|\n",
            "|Rua João Antunes Carvalho, 75                 |Lauzane Paulista   |São Paulo|300     |4      |5        |4    |R$ 1.150.000|\n",
            "|Rua Timbé                                     |Jardim Santa Maria |São Paulo|135     |3      |3        |2    |R$ 550.000  |\n",
            "|Rua João Tauler                               |Vila Nova          |São Paulo|180     |4      |2        |4    |R$ 420.000  |\n",
            "|Rua Alice Garcia Vega, 345                    |Itaberaba          |São Paulo|300     |3      |5        |4    |R$ 2.232.000|\n",
            "|Rua Graham Bell, 332                          |Santo Amaro        |São Paulo|772     |7      |7        |6    |R$ 2.700.000|\n",
            "|Avenida Antônio Joaquim de Moura Andrade, 294 |Vila Nova Conceição|São Paulo|605     |3      |3        |4    |R$ 4.190.000|\n",
            "+----------------------------------------------+-------------------+---------+--------+-------+---------+-----+------------+\n",
            "only showing top 20 rows\n",
            "\n"
          ]
        }
      ]
    },
    {
      "cell_type": "code",
      "source": [
        "#Tamanho do Dataframe\n",
        "df.count()"
      ],
      "metadata": {
        "colab": {
          "base_uri": "https://localhost:8080/"
        },
        "id": "AOCrylzN2fze",
        "outputId": "a8b0c5d3-4469-4736-ec7b-5f506ec7909d"
      },
      "execution_count": null,
      "outputs": [
        {
          "output_type": "execute_result",
          "data": {
            "text/plain": [
              "10860"
            ]
          },
          "metadata": {},
          "execution_count": 18
        }
      ]
    },
    {
      "cell_type": "code",
      "source": [
        "# Informações dos tipos de dados\n",
        "df.printSchema()"
      ],
      "metadata": {
        "colab": {
          "base_uri": "https://localhost:8080/"
        },
        "id": "olVH6zDrplYL",
        "outputId": "1722c57f-7e9b-4f3b-8311-43db8e57e9c9"
      },
      "execution_count": null,
      "outputs": [
        {
          "output_type": "stream",
          "name": "stdout",
          "text": [
            "root\n",
            " |-- Rua: string (nullable = true)\n",
            " |-- Bairro: string (nullable = true)\n",
            " |-- Cidade: string (nullable = true)\n",
            " |-- Metragem: integer (nullable = true)\n",
            " |-- Quartos: integer (nullable = true)\n",
            " |-- Banheiros: integer (nullable = true)\n",
            " |-- Vagas: integer (nullable = true)\n",
            " |-- Valor: string (nullable = true)\n",
            "\n"
          ]
        }
      ]
    },
    {
      "cell_type": "code",
      "source": [
        "# Split da coluna Valor (contém cifrão) para poder mudar para tipo numérico\n",
        "from pyspark.sql.functions import split,col\n",
        "df=df.withColumn(\"moeda\", split(col(\"Valor\"), \" \").getItem(0)).withColumn(\"ValorImovel\", split(col(\"Valor\"), \" \").getItem(1))"
      ],
      "metadata": {
        "id": "EYDglvTS-kWu"
      },
      "execution_count": null,
      "outputs": []
    },
    {
      "cell_type": "code",
      "source": [
        "df.limit(5).toPandas()"
      ],
      "metadata": {
        "colab": {
          "base_uri": "https://localhost:8080/",
          "height": 206
        },
        "id": "ieX65azVcNjB",
        "outputId": "89fe7e19-a0c7-427b-d0bc-47f55ca15b7c"
      },
      "execution_count": null,
      "outputs": [
        {
          "output_type": "execute_result",
          "data": {
            "text/plain": [
              "                              Rua              Bairro     Cidade  Metragem  \\\n",
              "0           Avenida Itacira, 255    Planalto Paulista  São Paulo      1000   \n",
              "1  Rua Aurelia Perez Alvarez, 42   Jardim dos Estados  São Paulo       496   \n",
              "2                 Rua Alba Valdez     Jardim Reimberg  São Paulo       125   \n",
              "3                            None      Jardim Morumbi  São Paulo       310   \n",
              "4        Rua Tobias Barreto, 195                Mooca  São Paulo       100   \n",
              "\n",
              "   Quartos  Banheiros  Vagas         Valor moeda ValorImovel  \n",
              "0        4          8      6  R$ 7.000.000    R$   7.000.000  \n",
              "1        4          4      4  R$ 3.700.000    R$   3.700.000  \n",
              "2        4          3      2    R$ 380.000    R$     380.000  \n",
              "3        3          2      4    R$ 685.000    R$     685.000  \n",
              "4        3          2      2    R$ 540.000    R$     540.000  "
            ],
            "text/html": [
              "\n",
              "  <div id=\"df-fc8f32d0-8acb-420c-85a3-4f5c0405432b\">\n",
              "    <div class=\"colab-df-container\">\n",
              "      <div>\n",
              "<style scoped>\n",
              "    .dataframe tbody tr th:only-of-type {\n",
              "        vertical-align: middle;\n",
              "    }\n",
              "\n",
              "    .dataframe tbody tr th {\n",
              "        vertical-align: top;\n",
              "    }\n",
              "\n",
              "    .dataframe thead th {\n",
              "        text-align: right;\n",
              "    }\n",
              "</style>\n",
              "<table border=\"1\" class=\"dataframe\">\n",
              "  <thead>\n",
              "    <tr style=\"text-align: right;\">\n",
              "      <th></th>\n",
              "      <th>Rua</th>\n",
              "      <th>Bairro</th>\n",
              "      <th>Cidade</th>\n",
              "      <th>Metragem</th>\n",
              "      <th>Quartos</th>\n",
              "      <th>Banheiros</th>\n",
              "      <th>Vagas</th>\n",
              "      <th>Valor</th>\n",
              "      <th>moeda</th>\n",
              "      <th>ValorImovel</th>\n",
              "    </tr>\n",
              "  </thead>\n",
              "  <tbody>\n",
              "    <tr>\n",
              "      <th>0</th>\n",
              "      <td>Avenida Itacira, 255</td>\n",
              "      <td>Planalto Paulista</td>\n",
              "      <td>São Paulo</td>\n",
              "      <td>1000</td>\n",
              "      <td>4</td>\n",
              "      <td>8</td>\n",
              "      <td>6</td>\n",
              "      <td>R$ 7.000.000</td>\n",
              "      <td>R$</td>\n",
              "      <td>7.000.000</td>\n",
              "    </tr>\n",
              "    <tr>\n",
              "      <th>1</th>\n",
              "      <td>Rua Aurelia Perez Alvarez, 42</td>\n",
              "      <td>Jardim dos Estados</td>\n",
              "      <td>São Paulo</td>\n",
              "      <td>496</td>\n",
              "      <td>4</td>\n",
              "      <td>4</td>\n",
              "      <td>4</td>\n",
              "      <td>R$ 3.700.000</td>\n",
              "      <td>R$</td>\n",
              "      <td>3.700.000</td>\n",
              "    </tr>\n",
              "    <tr>\n",
              "      <th>2</th>\n",
              "      <td>Rua Alba Valdez</td>\n",
              "      <td>Jardim Reimberg</td>\n",
              "      <td>São Paulo</td>\n",
              "      <td>125</td>\n",
              "      <td>4</td>\n",
              "      <td>3</td>\n",
              "      <td>2</td>\n",
              "      <td>R$ 380.000</td>\n",
              "      <td>R$</td>\n",
              "      <td>380.000</td>\n",
              "    </tr>\n",
              "    <tr>\n",
              "      <th>3</th>\n",
              "      <td>None</td>\n",
              "      <td>Jardim Morumbi</td>\n",
              "      <td>São Paulo</td>\n",
              "      <td>310</td>\n",
              "      <td>3</td>\n",
              "      <td>2</td>\n",
              "      <td>4</td>\n",
              "      <td>R$ 685.000</td>\n",
              "      <td>R$</td>\n",
              "      <td>685.000</td>\n",
              "    </tr>\n",
              "    <tr>\n",
              "      <th>4</th>\n",
              "      <td>Rua Tobias Barreto, 195</td>\n",
              "      <td>Mooca</td>\n",
              "      <td>São Paulo</td>\n",
              "      <td>100</td>\n",
              "      <td>3</td>\n",
              "      <td>2</td>\n",
              "      <td>2</td>\n",
              "      <td>R$ 540.000</td>\n",
              "      <td>R$</td>\n",
              "      <td>540.000</td>\n",
              "    </tr>\n",
              "  </tbody>\n",
              "</table>\n",
              "</div>\n",
              "      <button class=\"colab-df-convert\" onclick=\"convertToInteractive('df-fc8f32d0-8acb-420c-85a3-4f5c0405432b')\"\n",
              "              title=\"Convert this dataframe to an interactive table.\"\n",
              "              style=\"display:none;\">\n",
              "        \n",
              "  <svg xmlns=\"http://www.w3.org/2000/svg\" height=\"24px\"viewBox=\"0 0 24 24\"\n",
              "       width=\"24px\">\n",
              "    <path d=\"M0 0h24v24H0V0z\" fill=\"none\"/>\n",
              "    <path d=\"M18.56 5.44l.94 2.06.94-2.06 2.06-.94-2.06-.94-.94-2.06-.94 2.06-2.06.94zm-11 1L8.5 8.5l.94-2.06 2.06-.94-2.06-.94L8.5 2.5l-.94 2.06-2.06.94zm10 10l.94 2.06.94-2.06 2.06-.94-2.06-.94-.94-2.06-.94 2.06-2.06.94z\"/><path d=\"M17.41 7.96l-1.37-1.37c-.4-.4-.92-.59-1.43-.59-.52 0-1.04.2-1.43.59L10.3 9.45l-7.72 7.72c-.78.78-.78 2.05 0 2.83L4 21.41c.39.39.9.59 1.41.59.51 0 1.02-.2 1.41-.59l7.78-7.78 2.81-2.81c.8-.78.8-2.07 0-2.86zM5.41 20L4 18.59l7.72-7.72 1.47 1.35L5.41 20z\"/>\n",
              "  </svg>\n",
              "      </button>\n",
              "      \n",
              "  <style>\n",
              "    .colab-df-container {\n",
              "      display:flex;\n",
              "      flex-wrap:wrap;\n",
              "      gap: 12px;\n",
              "    }\n",
              "\n",
              "    .colab-df-convert {\n",
              "      background-color: #E8F0FE;\n",
              "      border: none;\n",
              "      border-radius: 50%;\n",
              "      cursor: pointer;\n",
              "      display: none;\n",
              "      fill: #1967D2;\n",
              "      height: 32px;\n",
              "      padding: 0 0 0 0;\n",
              "      width: 32px;\n",
              "    }\n",
              "\n",
              "    .colab-df-convert:hover {\n",
              "      background-color: #E2EBFA;\n",
              "      box-shadow: 0px 1px 2px rgba(60, 64, 67, 0.3), 0px 1px 3px 1px rgba(60, 64, 67, 0.15);\n",
              "      fill: #174EA6;\n",
              "    }\n",
              "\n",
              "    [theme=dark] .colab-df-convert {\n",
              "      background-color: #3B4455;\n",
              "      fill: #D2E3FC;\n",
              "    }\n",
              "\n",
              "    [theme=dark] .colab-df-convert:hover {\n",
              "      background-color: #434B5C;\n",
              "      box-shadow: 0px 1px 3px 1px rgba(0, 0, 0, 0.15);\n",
              "      filter: drop-shadow(0px 1px 2px rgba(0, 0, 0, 0.3));\n",
              "      fill: #FFFFFF;\n",
              "    }\n",
              "  </style>\n",
              "\n",
              "      <script>\n",
              "        const buttonEl =\n",
              "          document.querySelector('#df-fc8f32d0-8acb-420c-85a3-4f5c0405432b button.colab-df-convert');\n",
              "        buttonEl.style.display =\n",
              "          google.colab.kernel.accessAllowed ? 'block' : 'none';\n",
              "\n",
              "        async function convertToInteractive(key) {\n",
              "          const element = document.querySelector('#df-fc8f32d0-8acb-420c-85a3-4f5c0405432b');\n",
              "          const dataTable =\n",
              "            await google.colab.kernel.invokeFunction('convertToInteractive',\n",
              "                                                     [key], {});\n",
              "          if (!dataTable) return;\n",
              "\n",
              "          const docLinkHtml = 'Like what you see? Visit the ' +\n",
              "            '<a target=\"_blank\" href=https://colab.research.google.com/notebooks/data_table.ipynb>data table notebook</a>'\n",
              "            + ' to learn more about interactive tables.';\n",
              "          element.innerHTML = '';\n",
              "          dataTable['output_type'] = 'display_data';\n",
              "          await google.colab.output.renderOutput(dataTable, element);\n",
              "          const docLink = document.createElement('div');\n",
              "          docLink.innerHTML = docLinkHtml;\n",
              "          element.appendChild(docLink);\n",
              "        }\n",
              "      </script>\n",
              "    </div>\n",
              "  </div>\n",
              "  "
            ]
          },
          "metadata": {},
          "execution_count": 21
        }
      ]
    },
    {
      "cell_type": "code",
      "source": [
        "#Excluindo colunas valor, moeda Cidade, e Rua\n",
        "df = df.drop(\"moeda\",\"Valor\",\"Rua\",\"Cidade\")"
      ],
      "metadata": {
        "id": "0E8ac0nfVPMq"
      },
      "execution_count": null,
      "outputs": []
    },
    {
      "cell_type": "code",
      "source": [
        "# Conversão dos tipos de dados\n",
        "from pyspark.sql.types import IntegerType, DoubleType\n",
        "  \n",
        "df = df \\\n",
        "  .withColumn(\"Metragem\" ,\n",
        "              df[\"Metragem\"]\n",
        "              .cast(IntegerType()))   \\\n",
        "  .withColumn(\"Quartos\",\n",
        "              df[\"Quartos\"]\n",
        "              .cast(IntegerType()))   \\\n",
        "  .withColumn(\"Banheiros\"  ,\n",
        "              df[\"Banheiros\"]\n",
        "              .cast(IntegerType()))   \\\n",
        "  .withColumn(\"Vagas\"  ,\n",
        "              df[\"Vagas\"]\n",
        "              .cast(IntegerType()))   \\\n",
        "  .withColumn(\"ValorImovel\"  ,\n",
        "              df[\"ValorImovel\"]\n",
        "              .cast(DoubleType()))   \\\n",
        "              \n",
        "  \n",
        "df.printSchema()"
      ],
      "metadata": {
        "colab": {
          "base_uri": "https://localhost:8080/"
        },
        "id": "Ma6og0sXq9tj",
        "outputId": "51a3a2c4-3bfa-4812-c1db-d95ab06d764d"
      },
      "execution_count": null,
      "outputs": [
        {
          "output_type": "stream",
          "name": "stdout",
          "text": [
            "root\n",
            " |-- Bairro: string (nullable = true)\n",
            " |-- Metragem: integer (nullable = true)\n",
            " |-- Quartos: integer (nullable = true)\n",
            " |-- Banheiros: integer (nullable = true)\n",
            " |-- Vagas: integer (nullable = true)\n",
            " |-- ValorImovel: double (nullable = true)\n",
            "\n"
          ]
        }
      ]
    },
    {
      "cell_type": "code",
      "source": [
        "# Contagem de valores nulos\n",
        "from pyspark.sql.functions import isnan, when, count, col\n",
        "df.select([count(when(col(c).isNull(), c)).alias(c) for c in df.columns]).show()"
      ],
      "metadata": {
        "colab": {
          "base_uri": "https://localhost:8080/"
        },
        "id": "aSmeT56Vud7S",
        "outputId": "67a60efd-acef-4a3f-9274-5cf0309e8d19"
      },
      "execution_count": null,
      "outputs": [
        {
          "output_type": "stream",
          "name": "stdout",
          "text": [
            "+------+--------+-------+---------+-----+-----------+\n",
            "|Bairro|Metragem|Quartos|Banheiros|Vagas|ValorImovel|\n",
            "+------+--------+-------+---------+-----+-----------+\n",
            "|   864|     852|    852|      852|  852|       7285|\n",
            "+------+--------+-------+---------+-----+-----------+\n",
            "\n"
          ]
        }
      ]
    },
    {
      "cell_type": "code",
      "source": [
        "# Exclusão dados nulos \n",
        "df = df.dropna(how=\"any\")"
      ],
      "metadata": {
        "id": "X9LhjZAb9DQI"
      },
      "execution_count": null,
      "outputs": []
    },
    {
      "cell_type": "code",
      "source": [
        "# Verificando exclusão\n",
        "from pyspark.sql.functions import isnan, when, count, col\n",
        "df.select([count(when(col(c).isNull(), c)).alias(c) for c in df.columns]).show()"
      ],
      "metadata": {
        "colab": {
          "base_uri": "https://localhost:8080/"
        },
        "id": "_vnnsknQX5Dy",
        "outputId": "9ffae62f-9494-4176-f0bd-52b839eebbd7"
      },
      "execution_count": null,
      "outputs": [
        {
          "output_type": "stream",
          "name": "stdout",
          "text": [
            "+------+--------+-------+---------+-----+-----------+\n",
            "|Bairro|Metragem|Quartos|Banheiros|Vagas|ValorImovel|\n",
            "+------+--------+-------+---------+-----+-----------+\n",
            "|     0|       0|      0|        0|    0|          0|\n",
            "+------+--------+-------+---------+-----+-----------+\n",
            "\n"
          ]
        }
      ]
    },
    {
      "cell_type": "code",
      "source": [
        "# Tamanho do DataFrame após exclusão dos dados nulos\n",
        "df.count()"
      ],
      "metadata": {
        "colab": {
          "base_uri": "https://localhost:8080/"
        },
        "id": "ewSwm55zqUe1",
        "outputId": "90854abc-1de9-497c-eddd-bcb0e9161962"
      },
      "execution_count": null,
      "outputs": [
        {
          "output_type": "execute_result",
          "data": {
            "text/plain": [
              "3572"
            ]
          },
          "metadata": {},
          "execution_count": 27
        }
      ]
    },
    {
      "cell_type": "code",
      "source": [
        "# Verificando o shape do pyspark dataframe\n",
        "print((df.count(), len(df.columns)))"
      ],
      "metadata": {
        "colab": {
          "base_uri": "https://localhost:8080/"
        },
        "id": "niLYlv_QLcBV",
        "outputId": "2303dd77-c3af-427e-9e98-5cebd94ca6f5"
      },
      "execution_count": null,
      "outputs": [
        {
          "output_type": "stream",
          "name": "stdout",
          "text": [
            "(3572, 6)\n"
          ]
        }
      ]
    },
    {
      "cell_type": "markdown",
      "source": [
        "# Análises"
      ],
      "metadata": {
        "id": "iyMbvNEufpH2"
      }
    },
    {
      "cell_type": "code",
      "source": [
        "#Estatística descritiva\n",
        "# A média de valor é de R$ 511.919\n",
        "df\\\n",
        "    .select(\"Metragem\",\"Quartos\",\"Banheiros\",\"Vagas\",\"ValorImovel\")\\\n",
        "    .summary()\\\n",
        "    .show()"
      ],
      "metadata": {
        "colab": {
          "base_uri": "https://localhost:8080/"
        },
        "id": "MmlIyOaydnt4",
        "outputId": "be188040-2960-4a9f-d182-56c480c3c264"
      },
      "execution_count": null,
      "outputs": [
        {
          "output_type": "stream",
          "name": "stdout",
          "text": [
            "+-------+------------------+------------------+------------------+-----------------+-----------------+\n",
            "|summary|          Metragem|           Quartos|         Banheiros|            Vagas|      ValorImovel|\n",
            "+-------+------------------+------------------+------------------+-----------------+-----------------+\n",
            "|  count|              3572|              3572|              3572|             3572|             3572|\n",
            "|   mean|246.85834266517358|3.0683090705487124|2.9566069428891377|3.205767077267637|511.9193796192605|\n",
            "| stddev|249.54990921427193|1.1053866969844086|1.7240514562310012|2.787526784116519| 324.036621017804|\n",
            "|    min|                10|                 1|                 1|                1|             1.65|\n",
            "|    25%|               120|                 2|                 2|                2|            257.6|\n",
            "|    50%|               165|                 3|                 3|                2|            585.0|\n",
            "|    75%|               270|                 3|                 4|                4|            790.0|\n",
            "|    max|              7126|                16|                16|               42|          999.999|\n",
            "+-------+------------------+------------------+------------------+-----------------+-----------------+\n",
            "\n"
          ]
        }
      ]
    },
    {
      "cell_type": "markdown",
      "source": [
        "##### Histograma valor do imóvel para ver a distribuição dos valores"
      ],
      "metadata": {
        "id": "iQauL941W0Os"
      }
    },
    {
      "cell_type": "code",
      "source": [
        "df_hist=df.toPandas()"
      ],
      "metadata": {
        "id": "M0woPs8pnX08"
      },
      "execution_count": null,
      "outputs": []
    },
    {
      "cell_type": "code",
      "source": [
        "plt.figure(figsize=(10, 8))\n",
        "df_hist['ValorImovel'].plot.hist(bins = 30)\n",
        "plt.title(\"Valor Imóvel\")"
      ],
      "metadata": {
        "colab": {
          "base_uri": "https://localhost:8080/",
          "height": 516
        },
        "id": "1zqd-y5No4y2",
        "outputId": "fde9f85a-451d-48bd-ff07-9f02ada99503"
      },
      "execution_count": null,
      "outputs": [
        {
          "output_type": "execute_result",
          "data": {
            "text/plain": [
              "Text(0.5, 1.0, 'Valor Imóvel')"
            ]
          },
          "metadata": {},
          "execution_count": 30
        },
        {
          "output_type": "display_data",
          "data": {
            "text/plain": [
              "<Figure size 720x576 with 1 Axes>"
            ],
            "image/png": "[encoded data removed]"
          },
          "metadata": {
            "needs_background": "light"
          }
        }
      ]
    },
    {
      "cell_type": "markdown",
      "source": [
        "\n",
        "##### Quantidade de imóveis por bairro\n",
        "\n"
      ],
      "metadata": {
        "id": "x7t74XTXW0LN"
      }
    },
    {
      "cell_type": "code",
      "source": [
        "# Quantidade de bairros\n",
        "qtdb=df.select('Bairro').distinct().count()\n",
        "print(f'Ao todo são  {qtdb} bairros')"
      ],
      "metadata": {
        "colab": {
          "base_uri": "https://localhost:8080/"
        },
        "id": "Kc_NsbLCK_eB",
        "outputId": "9ef83c00-5f94-478f-942a-d53116cf26a4"
      },
      "execution_count": null,
      "outputs": [
        {
          "output_type": "stream",
          "name": "stdout",
          "text": [
            "Ao todo são  638 bairros\n"
          ]
        }
      ]
    },
    {
      "cell_type": "code",
      "source": [
        "# Quantidade de imóveis por bairro\n",
        "# os bairros com maiores quantidades tem de 39 a 52 imóveis\n",
        "df_b=(df.groupby('Bairro').count()\n",
        "        .orderBy('count', ascending=False)).show(10)"
      ],
      "metadata": {
        "colab": {
          "base_uri": "https://localhost:8080/"
        },
        "id": "FnpZgR5mzQjj",
        "outputId": "8e0dc0ed-5d64-4dc4-a80c-f267c024c8e1"
      },
      "execution_count": null,
      "outputs": [
        {
          "output_type": "stream",
          "name": "stdout",
          "text": [
            "+-----------------+-----+\n",
            "|           Bairro|count|\n",
            "+-----------------+-----+\n",
            "|     Vila Mariana|   52|\n",
            "|         Ipiranga|   52|\n",
            "|   Jardim América|   50|\n",
            "|  Bosque da Saúde|   50|\n",
            "|   Jardim Guedala|   50|\n",
            "|          Cambuci|   47|\n",
            "|Planalto Paulista|   44|\n",
            "|  Jardim Paulista|   43|\n",
            "|Alto de Pinheiros|   40|\n",
            "|    Cidade Jardim|   39|\n",
            "+-----------------+-----+\n",
            "only showing top 10 rows\n",
            "\n"
          ]
        }
      ]
    },
    {
      "cell_type": "code",
      "source": [
        "data = [[\"Vila Mariana\" , 52], [ \"Ipiranga\", 52],\n",
        "      [\"Bosque da Saúde\"  , 50],[\"Jardim América\", 50], \n",
        "        [\"Jardim Guedala\" ,50],[\"Cambuci\", 47],\n",
        "        [\"Planalto Paulista\", 44], [\"Jardim Paulista\", 43],\n",
        "          [\"Alto de Pinheiros\" ,40],[\"Cidade Jardim\",39]]\n",
        "columns=[\"Bairro\",\"Quantidade de imoveis\"]\n",
        "dataframe = spark.createDataFrame(data, columns)\n",
        "dataframe.show()"
      ],
      "metadata": {
        "colab": {
          "base_uri": "https://localhost:8080/"
        },
        "id": "jr6w6E2hTrcE",
        "outputId": "5e97e9e7-b10d-4b8f-fdcc-c198cd74a371"
      },
      "execution_count": null,
      "outputs": [
        {
          "output_type": "stream",
          "name": "stdout",
          "text": [
            "+-----------------+---------------------+\n",
            "|           Bairro|Quantidade de imoveis|\n",
            "+-----------------+---------------------+\n",
            "|     Vila Mariana|                   52|\n",
            "|         Ipiranga|                   52|\n",
            "|  Bosque da Saúde|                   50|\n",
            "|   Jardim América|                   50|\n",
            "|   Jardim Guedala|                   50|\n",
            "|          Cambuci|                   47|\n",
            "|Planalto Paulista|                   44|\n",
            "|  Jardim Paulista|                   43|\n",
            "|Alto de Pinheiros|                   40|\n",
            "|    Cidade Jardim|                   39|\n",
            "+-----------------+---------------------+\n",
            "\n"
          ]
        }
      ]
    },
    {
      "cell_type": "code",
      "source": [
        "dataframe.printSchema()"
      ],
      "metadata": {
        "colab": {
          "base_uri": "https://localhost:8080/"
        },
        "id": "9VnHTKe5gkWy",
        "outputId": "d29ac5c8-9511-4329-b830-b4357e0f51fd"
      },
      "execution_count": null,
      "outputs": [
        {
          "output_type": "stream",
          "name": "stdout",
          "text": [
            "root\n",
            " |-- Bairro: string (nullable = true)\n",
            " |-- Quantidade de imoveis: long (nullable = true)\n",
            "\n"
          ]
        }
      ]
    },
    {
      "cell_type": "code",
      "source": [
        "dataframe=dataframe.toPandas()"
      ],
      "metadata": {
        "id": "Axnm-6Hhj5mO"
      },
      "execution_count": null,
      "outputs": []
    },
    {
      "cell_type": "code",
      "source": [
        "plt.figure(figsize=(20, 5))\n",
        "ax = sns.barplot(x=\"Bairro\", y=\"Quantidade de imoveis\", data=dataframe,color = \"blue\")\n",
        "ax.tick_params(axis='x', rotation=45)\n",
        "plt.title(\"Top 10 bairros com mais imóveis\")"
      ],
      "metadata": {
        "colab": {
          "base_uri": "https://localhost:8080/",
          "height": 426
        },
        "id": "hQGNF15ufO3n",
        "outputId": "087af5be-93d8-4773-ba49-c0692e876cdb"
      },
      "execution_count": null,
      "outputs": [
        {
          "output_type": "execute_result",
          "data": {
            "text/plain": [
              "Text(0.5, 1.0, 'Top 10 bairros com mais imóveis')"
            ]
          },
          "metadata": {},
          "execution_count": 36
        },
        {
          "output_type": "display_data",
          "data": {
            "text/plain": [
              "<Figure size 1440x360 with 1 Axes>"
            ],
            "image/png": "[encoded data removed]"
          },
          "metadata": {
            "needs_background": "light"
          }
        }
      ]
    },
    {
      "cell_type": "code",
      "source": [
        "# 10 bairros com maiores médias de valor \n",
        "# Os bairros mais caros tem valores entre 964 mil e 990 mil\n",
        "from pyspark.sql.functions import avg, col, desc\n",
        "media_Valor_bairro=df.groupBy(\"Bairro\") \\\n",
        "  .agg(avg(\"ValorImovel\").alias(\"ValorImovel\")) \\\n",
        "  .sort(col(\"ValorImovel\").desc()) \\\n",
        "  .show(10)"
      ],
      "metadata": {
        "colab": {
          "base_uri": "https://localhost:8080/"
        },
        "id": "dbwLY7zJVKli",
        "outputId": "0995d7cd-b136-4bbb-8cf8-a9877449432e"
      },
      "execution_count": null,
      "outputs": [
        {
          "output_type": "stream",
          "name": "stdout",
          "text": [
            "+-----------------+-----------+\n",
            "|           Bairro|ValorImovel|\n",
            "+-----------------+-----------+\n",
            "|          Pompeia|      990.0|\n",
            "|     Vila Sabrina|      990.0|\n",
            "|      Vila Zelina|      990.0|\n",
            "|   Jardim Bélgica|      990.0|\n",
            "|        Carandiru|      990.0|\n",
            "|Vila João Batista|      987.0|\n",
            "|      Jardim Íris|      980.0|\n",
            "|       Bela Vista|      960.0|\n",
            "|    Vila Fiat Lux|      957.0|\n",
            "|  Jardim Umarizal|      954.0|\n",
            "+-----------------+-----------+\n",
            "only showing top 10 rows\n",
            "\n"
          ]
        }
      ]
    },
    {
      "cell_type": "code",
      "source": [
        "dados = [[ \"Pompeia\", 990.000], [ \"Vila Sabrina\", 990.000],\n",
        "        [\"Vila Zelina\", 990.000], [\"Jardim Belgica\", 990.000], \n",
        "        [\"Carandiru\"  ,990.000], [\"Vila São Batista\" ,987.000],\n",
        "                [\"Jardim Iri\", 980.000] ,[\"Bela Vista\", 960.000],\n",
        "         [\"Vila Fiat Lux\", 957.000], [\"Jardim Umarizal\" ,954.000]]\n",
        "col=[\"Bairro\",\"Valor\"]\n",
        "data_valor = spark.createDataFrame(dados, col)\n",
        "data_valor.show()"
      ],
      "metadata": {
        "colab": {
          "base_uri": "https://localhost:8080/"
        },
        "id": "_a_QyOkxlllZ",
        "outputId": "e32a5934-2159-45d5-f418-34ffc1140e97"
      },
      "execution_count": null,
      "outputs": [
        {
          "output_type": "stream",
          "name": "stdout",
          "text": [
            "+----------------+-----+\n",
            "|          Bairro|Valor|\n",
            "+----------------+-----+\n",
            "|         Pompeia|990.0|\n",
            "|    Vila Sabrina|990.0|\n",
            "|     Vila Zelina|990.0|\n",
            "|  Jardim Belgica|990.0|\n",
            "|       Carandiru|990.0|\n",
            "|Vila São Batista|987.0|\n",
            "|      Jardim Iri|980.0|\n",
            "|      Bela Vista|960.0|\n",
            "|   Vila Fiat Lux|957.0|\n",
            "| Jardim Umarizal|954.0|\n",
            "+----------------+-----+\n",
            "\n"
          ]
        }
      ]
    },
    {
      "cell_type": "code",
      "source": [
        "data_valor.printSchema()"
      ],
      "metadata": {
        "colab": {
          "base_uri": "https://localhost:8080/"
        },
        "id": "kFwpt7-ToZ26",
        "outputId": "41ab0191-b2f9-4fe3-a0be-b3492a01cc10"
      },
      "execution_count": null,
      "outputs": [
        {
          "output_type": "stream",
          "name": "stdout",
          "text": [
            "root\n",
            " |-- Bairro: string (nullable = true)\n",
            " |-- Valor: double (nullable = true)\n",
            "\n"
          ]
        }
      ]
    },
    {
      "cell_type": "code",
      "source": [
        "data_valor=data_valor.toPandas()"
      ],
      "metadata": {
        "id": "t57z6d8rpbCu"
      },
      "execution_count": null,
      "outputs": []
    },
    {
      "cell_type": "code",
      "source": [
        "plt.figure(figsize=(18, 5))\n",
        "plt.title(\"Bairros com imóveis mais caros\")\n",
        "sns.barplot(y = 'Valor', x = 'Bairro', data = data_valor, color=\"green\")\n",
        "plt.show()"
      ],
      "metadata": {
        "colab": {
          "base_uri": "https://localhost:8080/",
          "height": 350
        },
        "id": "r25RahiOpaAH",
        "outputId": "183d8e93-e3e0-474c-c2d8-3d59c07a7a90"
      },
      "execution_count": null,
      "outputs": [
        {
          "output_type": "display_data",
          "data": {
            "text/plain": [
              "<Figure size 1296x360 with 1 Axes>"
            ],
            "image/png": "[encoded data removed]"
          },
          "metadata": {
            "needs_background": "light"
          }
        }
      ]
    },
    {
      "cell_type": "code",
      "source": [
        "# Valor do Metrô Quadrado\n",
        "import pyspark.sql.functions as F\n",
        "from pyspark.sql import functions as F\n",
        "df2 = df.withColumn(\"Valor_Metro2\", (F.col(\"ValorImovel\") / F.col(\"Metragem\")))\n",
        "df2.sort(F.desc(\"Valor_Metro2\")).toPandas()"
      ],
      "metadata": {
        "colab": {
          "base_uri": "https://localhost:8080/",
          "height": 424
        },
        "id": "SHB6EVXkGUQT",
        "outputId": "05f39d8d-a225-4cb9-a507-9107a6d20110"
      },
      "execution_count": null,
      "outputs": [
        {
          "output_type": "execute_result",
          "data": {
            "text/plain": [
              "                 Bairro  Metragem  Quartos  Banheiros  Vagas  ValorImovel  \\\n",
              "0            Vila Guaca        10        3          2      2       800.00   \n",
              "1      Jardim Ampliação        20        3          2      2       800.00   \n",
              "2      Jardim Ampliação        25        3          2      2       800.00   \n",
              "3      Jardim Ampliação        25        3          2      2       800.00   \n",
              "4          Alto da Lapa        46        1          2      2       945.00   \n",
              "...                 ...       ...      ...        ...    ...          ...   \n",
              "3567      Cidade Jardim       775        5          7      4         8.00   \n",
              "3568  Vila Buenos Aires       300        1          4      8         2.80   \n",
              "3569  Vila Buenos Aires       305        1          4      8         2.80   \n",
              "3570  Brooklin Paulista       647        5          2      5         5.42   \n",
              "3571     Jardim D'Abril       200        3          3      2         1.65   \n",
              "\n",
              "      Valor_Metro2  \n",
              "0        80.000000  \n",
              "1        40.000000  \n",
              "2        32.000000  \n",
              "3        32.000000  \n",
              "4        20.543478  \n",
              "...            ...  \n",
              "3567      0.010323  \n",
              "3568      0.009333  \n",
              "3569      0.009180  \n",
              "3570      0.008377  \n",
              "3571      0.008250  \n",
              "\n",
              "[3572 rows x 7 columns]"
            ],
            "text/html": [
              "\n",
              "  <div id=\"df-27006291-fc80-45b1-90bb-369d2f9856d6\">\n",
              "    <div class=\"colab-df-container\">\n",
              "      <div>\n",
              "<style scoped>\n",
              "    .dataframe tbody tr th:only-of-type {\n",
              "        vertical-align: middle;\n",
              "    }\n",
              "\n",
              "    .dataframe tbody tr th {\n",
              "        vertical-align: top;\n",
              "    }\n",
              "\n",
              "    .dataframe thead th {\n",
              "        text-align: right;\n",
              "    }\n",
              "</style>\n",
              "<table border=\"1\" class=\"dataframe\">\n",
              "  <thead>\n",
              "    <tr style=\"text-align: right;\">\n",
              "      <th></th>\n",
              "      <th>Bairro</th>\n",
              "      <th>Metragem</th>\n",
              "      <th>Quartos</th>\n",
              "      <th>Banheiros</th>\n",
              "      <th>Vagas</th>\n",
              "      <th>ValorImovel</th>\n",
              "      <th>Valor_Metro2</th>\n",
              "    </tr>\n",
              "  </thead>\n",
              "  <tbody>\n",
              "    <tr>\n",
              "      <th>0</th>\n",
              "      <td>Vila Guaca</td>\n",
              "      <td>10</td>\n",
              "      <td>3</td>\n",
              "      <td>2</td>\n",
              "      <td>2</td>\n",
              "      <td>800.00</td>\n",
              "      <td>80.000000</td>\n",
              "    </tr>\n",
              "    <tr>\n",
              "      <th>1</th>\n",
              "      <td>Jardim Ampliação</td>\n",
              "      <td>20</td>\n",
              "      <td>3</td>\n",
              "      <td>2</td>\n",
              "      <td>2</td>\n",
              "      <td>800.00</td>\n",
              "      <td>40.000000</td>\n",
              "    </tr>\n",
              "    <tr>\n",
              "      <th>2</th>\n",
              "      <td>Jardim Ampliação</td>\n",
              "      <td>25</td>\n",
              "      <td>3</td>\n",
              "      <td>2</td>\n",
              "      <td>2</td>\n",
              "      <td>800.00</td>\n",
              "      <td>32.000000</td>\n",
              "    </tr>\n",
              "    <tr>\n",
              "      <th>3</th>\n",
              "      <td>Jardim Ampliação</td>\n",
              "      <td>25</td>\n",
              "      <td>3</td>\n",
              "      <td>2</td>\n",
              "      <td>2</td>\n",
              "      <td>800.00</td>\n",
              "      <td>32.000000</td>\n",
              "    </tr>\n",
              "    <tr>\n",
              "      <th>4</th>\n",
              "      <td>Alto da Lapa</td>\n",
              "      <td>46</td>\n",
              "      <td>1</td>\n",
              "      <td>2</td>\n",
              "      <td>2</td>\n",
              "      <td>945.00</td>\n",
              "      <td>20.543478</td>\n",
              "    </tr>\n",
              "    <tr>\n",
              "      <th>...</th>\n",
              "      <td>...</td>\n",
              "      <td>...</td>\n",
              "      <td>...</td>\n",
              "      <td>...</td>\n",
              "      <td>...</td>\n",
              "      <td>...</td>\n",
              "      <td>...</td>\n",
              "    </tr>\n",
              "    <tr>\n",
              "      <th>3567</th>\n",
              "      <td>Cidade Jardim</td>\n",
              "      <td>775</td>\n",
              "      <td>5</td>\n",
              "      <td>7</td>\n",
              "      <td>4</td>\n",
              "      <td>8.00</td>\n",
              "      <td>0.010323</td>\n",
              "    </tr>\n",
              "    <tr>\n",
              "      <th>3568</th>\n",
              "      <td>Vila Buenos Aires</td>\n",
              "      <td>300</td>\n",
              "      <td>1</td>\n",
              "      <td>4</td>\n",
              "      <td>8</td>\n",
              "      <td>2.80</td>\n",
              "      <td>0.009333</td>\n",
              "    </tr>\n",
              "    <tr>\n",
              "      <th>3569</th>\n",
              "      <td>Vila Buenos Aires</td>\n",
              "      <td>305</td>\n",
              "      <td>1</td>\n",
              "      <td>4</td>\n",
              "      <td>8</td>\n",
              "      <td>2.80</td>\n",
              "      <td>0.009180</td>\n",
              "    </tr>\n",
              "    <tr>\n",
              "      <th>3570</th>\n",
              "      <td>Brooklin Paulista</td>\n",
              "      <td>647</td>\n",
              "      <td>5</td>\n",
              "      <td>2</td>\n",
              "      <td>5</td>\n",
              "      <td>5.42</td>\n",
              "      <td>0.008377</td>\n",
              "    </tr>\n",
              "    <tr>\n",
              "      <th>3571</th>\n",
              "      <td>Jardim D'Abril</td>\n",
              "      <td>200</td>\n",
              "      <td>3</td>\n",
              "      <td>3</td>\n",
              "      <td>2</td>\n",
              "      <td>1.65</td>\n",
              "      <td>0.008250</td>\n",
              "    </tr>\n",
              "  </tbody>\n",
              "</table>\n",
              "<p>3572 rows × 7 columns</p>\n",
              "</div>\n",
              "      <button class=\"colab-df-convert\" onclick=\"convertToInteractive('df-27006291-fc80-45b1-90bb-369d2f9856d6')\"\n",
              "              title=\"Convert this dataframe to an interactive table.\"\n",
              "              style=\"display:none;\">\n",
              "        \n",
              "  <svg xmlns=\"http://www.w3.org/2000/svg\" height=\"24px\"viewBox=\"0 0 24 24\"\n",
              "       width=\"24px\">\n",
              "    <path d=\"M0 0h24v24H0V0z\" fill=\"none\"/>\n",
              "    <path d=\"M18.56 5.44l.94 2.06.94-2.06 2.06-.94-2.06-.94-.94-2.06-.94 2.06-2.06.94zm-11 1L8.5 8.5l.94-2.06 2.06-.94-2.06-.94L8.5 2.5l-.94 2.06-2.06.94zm10 10l.94 2.06.94-2.06 2.06-.94-2.06-.94-.94-2.06-.94 2.06-2.06.94z\"/><path d=\"M17.41 7.96l-1.37-1.37c-.4-.4-.92-.59-1.43-.59-.52 0-1.04.2-1.43.59L10.3 9.45l-7.72 7.72c-.78.78-.78 2.05 0 2.83L4 21.41c.39.39.9.59 1.41.59.51 0 1.02-.2 1.41-.59l7.78-7.78 2.81-2.81c.8-.78.8-2.07 0-2.86zM5.41 20L4 18.59l7.72-7.72 1.47 1.35L5.41 20z\"/>\n",
              "  </svg>\n",
              "      </button>\n",
              "      \n",
              "  <style>\n",
              "    .colab-df-container {\n",
              "      display:flex;\n",
              "      flex-wrap:wrap;\n",
              "      gap: 12px;\n",
              "    }\n",
              "\n",
              "    .colab-df-convert {\n",
              "      background-color: #E8F0FE;\n",
              "      border: none;\n",
              "      border-radius: 50%;\n",
              "      cursor: pointer;\n",
              "      display: none;\n",
              "      fill: #1967D2;\n",
              "      height: 32px;\n",
              "      padding: 0 0 0 0;\n",
              "      width: 32px;\n",
              "    }\n",
              "\n",
              "    .colab-df-convert:hover {\n",
              "      background-color: #E2EBFA;\n",
              "      box-shadow: 0px 1px 2px rgba(60, 64, 67, 0.3), 0px 1px 3px 1px rgba(60, 64, 67, 0.15);\n",
              "      fill: #174EA6;\n",
              "    }\n",
              "\n",
              "    [theme=dark] .colab-df-convert {\n",
              "      background-color: #3B4455;\n",
              "      fill: #D2E3FC;\n",
              "    }\n",
              "\n",
              "    [theme=dark] .colab-df-convert:hover {\n",
              "      background-color: #434B5C;\n",
              "      box-shadow: 0px 1px 3px 1px rgba(0, 0, 0, 0.15);\n",
              "      filter: drop-shadow(0px 1px 2px rgba(0, 0, 0, 0.3));\n",
              "      fill: #FFFFFF;\n",
              "    }\n",
              "  </style>\n",
              "\n",
              "      <script>\n",
              "        const buttonEl =\n",
              "          document.querySelector('#df-27006291-fc80-45b1-90bb-369d2f9856d6 button.colab-df-convert');\n",
              "        buttonEl.style.display =\n",
              "          google.colab.kernel.accessAllowed ? 'block' : 'none';\n",
              "\n",
              "        async function convertToInteractive(key) {\n",
              "          const element = document.querySelector('#df-27006291-fc80-45b1-90bb-369d2f9856d6');\n",
              "          const dataTable =\n",
              "            await google.colab.kernel.invokeFunction('convertToInteractive',\n",
              "                                                     [key], {});\n",
              "          if (!dataTable) return;\n",
              "\n",
              "          const docLinkHtml = 'Like what you see? Visit the ' +\n",
              "            '<a target=\"_blank\" href=https://colab.research.google.com/notebooks/data_table.ipynb>data table notebook</a>'\n",
              "            + ' to learn more about interactive tables.';\n",
              "          element.innerHTML = '';\n",
              "          dataTable['output_type'] = 'display_data';\n",
              "          await google.colab.output.renderOutput(dataTable, element);\n",
              "          const docLink = document.createElement('div');\n",
              "          docLink.innerHTML = docLinkHtml;\n",
              "          element.appendChild(docLink);\n",
              "        }\n",
              "      </script>\n",
              "    </div>\n",
              "  </div>\n",
              "  "
            ]
          },
          "metadata": {},
          "execution_count": 42
        }
      ]
    },
    {
      "cell_type": "code",
      "source": [
        "# Valor médio do metro quadrado\n",
        "m2=df2.agg({'Valor_Metro2': 'avg'}).show()"
      ],
      "metadata": {
        "colab": {
          "base_uri": "https://localhost:8080/"
        },
        "id": "Drxk-XHpm44p",
        "outputId": "ee697f11-384e-4977-885b-ca35063ad1a0"
      },
      "execution_count": null,
      "outputs": [
        {
          "output_type": "stream",
          "name": "stdout",
          "text": [
            "+------------------+\n",
            "| avg(Valor_Metro2)|\n",
            "+------------------+\n",
            "|3.6117143085816337|\n",
            "+------------------+\n",
            "\n"
          ]
        }
      ]
    },
    {
      "cell_type": "code",
      "source": [
        "df2=df2.toPandas()"
      ],
      "metadata": {
        "id": "gTaUOiL4xmPc"
      },
      "execution_count": null,
      "outputs": []
    },
    {
      "cell_type": "code",
      "source": [
        "sns.set()\n",
        "plt.figure(figsize=(8, 5))\n",
        "ax = sns.histplot(data = df2, x = \"Valor_Metro2\", kde = True,bins=50)\n",
        "ax.set_title(\"Valor M²\")\n",
        "plt.show()"
      ],
      "metadata": {
        "colab": {
          "base_uri": "https://localhost:8080/",
          "height": 355
        },
        "id": "BLoAwboB0b6E",
        "outputId": "67192d90-fdf0-429c-d594-d01623bd76fb"
      },
      "execution_count": null,
      "outputs": [
        {
          "output_type": "display_data",
          "data": {
            "text/plain": [
              "<Figure size 576x360 with 1 Axes>"
            ],
            "image/png": "[encoded data removed]"
          },
          "metadata": {}
        }
      ]
    },
    {
      "cell_type": "markdown",
      "source": [
        "#Modelos de MLSpark\n",
        "\n",
        "\n"
      ],
      "metadata": {
        "id": "bMpuBf8I3yyu"
      }
    },
    {
      "cell_type": "markdown",
      "source": [
        "### Modelo de Regressão Linear"
      ],
      "metadata": {
        "id": "XXHQmn9NJA70"
      }
    },
    {
      "cell_type": "code",
      "source": [
        "# Importação do VectorAssembler para vetorizar os dados\n",
        "from pyspark.ml.feature import VectorAssembler"
      ],
      "metadata": {
        "id": "RYd3jzjfQrQS"
      },
      "execution_count": null,
      "outputs": []
    },
    {
      "cell_type": "code",
      "source": [
        "# Alterar o nome da coluna Valor imóvel para label \n",
        "df = df.withColumnRenamed('ValorImovel','label')"
      ],
      "metadata": {
        "id": "3OWgWTCeJUBK"
      },
      "execution_count": null,
      "outputs": []
    },
    {
      "cell_type": "code",
      "source": [
        "# Seleção de features\n",
        "x=['Metragem','Quartos','Banheiros','Vagas']"
      ],
      "metadata": {
        "id": "CIYrmpanRGgY"
      },
      "execution_count": null,
      "outputs": []
    },
    {
      "cell_type": "code",
      "source": [
        "# Vetorizando as features \n",
        "assembler = VectorAssembler(inputCols = x, outputCol = 'features')"
      ],
      "metadata": {
        "id": "E9q8pIhMRUvC"
      },
      "execution_count": null,
      "outputs": []
    },
    {
      "cell_type": "code",
      "source": [
        "# Criando novo dataset para efetuar as mudanças\n",
        "dataset_prep = assembler.transform(df).select('features', 'label')"
      ],
      "metadata": {
        "id": "5m8Qigb2RgeN"
      },
      "execution_count": null,
      "outputs": []
    },
    {
      "cell_type": "code",
      "source": [
        "# Visualizar o dataset Vetorizado\n",
        "dataset_prep.show(10, truncate=False)"
      ],
      "metadata": {
        "colab": {
          "base_uri": "https://localhost:8080/"
        },
        "id": "ynx12_O8Rmer",
        "outputId": "26a9f2db-6488-408c-c597-68202b62168c"
      },
      "execution_count": null,
      "outputs": [
        {
          "output_type": "stream",
          "name": "stdout",
          "text": [
            "+-------------------+-----+\n",
            "|features           |label|\n",
            "+-------------------+-----+\n",
            "|[125.0,4.0,3.0,2.0]|380.0|\n",
            "|[310.0,3.0,2.0,4.0]|685.0|\n",
            "|[100.0,3.0,2.0,2.0]|540.0|\n",
            "|[145.0,4.0,4.0,2.0]|850.0|\n",
            "|[150.0,2.0,2.0,2.0]|450.0|\n",
            "|[48.0,2.0,1.0,1.0] |199.9|\n",
            "|[114.0,3.0,3.0,2.0]|585.0|\n",
            "|[261.0,4.0,4.0,3.0]|700.0|\n",
            "|[436.0,4.0,3.0,3.0]|15.0 |\n",
            "|[135.0,3.0,3.0,2.0]|550.0|\n",
            "+-------------------+-----+\n",
            "only showing top 10 rows\n",
            "\n"
          ]
        }
      ]
    },
    {
      "cell_type": "markdown",
      "source": [
        "Visualizando a correlação das variáveis"
      ],
      "metadata": {
        "id": "Y3iRQYkfLpN1"
      }
    },
    {
      "cell_type": "code",
      "source": [
        "# Importação Correlation e pandas\n",
        "from pyspark.ml.stat import Correlation\n",
        "import pandas as pd"
      ],
      "metadata": {
        "id": "7QrvYwZQR7M1"
      },
      "execution_count": null,
      "outputs": []
    },
    {
      "cell_type": "code",
      "source": [
        "# Seleção do dataset para fazer a correlação\n",
        "correlacao = Correlation.corr(dataset_prep, 'features').collect()"
      ],
      "metadata": {
        "id": "oO54eZL-SuQt"
      },
      "execution_count": null,
      "outputs": []
    },
    {
      "cell_type": "code",
      "source": [
        "# Seleção para correlação de Pearson\n",
        "correlacao = Correlation.corr(dataset_prep, 'features').collect()[0][0]"
      ],
      "metadata": {
        "id": "r9gsbe6QTCs0"
      },
      "execution_count": null,
      "outputs": []
    },
    {
      "cell_type": "code",
      "source": [
        "# Tabela de correlação\n",
        "correlacao.toArray() # transformando em array para ver a tabela\n",
        "df_corr=pd.DataFrame(correlacao.toArray(), columns=x, index=x)\n",
        "\n",
        "df_corr"
      ],
      "metadata": {
        "colab": {
          "base_uri": "https://localhost:8080/",
          "height": 175
        },
        "id": "Ylc91ZpRT6jK",
        "outputId": "b9974676-d63a-430d-c726-12fb035fd2d4"
      },
      "execution_count": null,
      "outputs": [
        {
          "output_type": "execute_result",
          "data": {
            "text/plain": [
              "           Metragem   Quartos  Banheiros     Vagas\n",
              "Metragem   1.000000  0.458296   0.576856  0.645479\n",
              "Quartos    0.458296  1.000000   0.546269  0.390864\n",
              "Banheiros  0.576856  0.546269   1.000000  0.529780\n",
              "Vagas      0.645479  0.390864   0.529780  1.000000"
            ],
            "text/html": [
              "\n",
              "  <div id=\"df-63793472-a335-409a-ad2b-23108561ce5c\">\n",
              "    <div class=\"colab-df-container\">\n",
              "      <div>\n",
              "<style scoped>\n",
              "    .dataframe tbody tr th:only-of-type {\n",
              "        vertical-align: middle;\n",
              "    }\n",
              "\n",
              "    .dataframe tbody tr th {\n",
              "        vertical-align: top;\n",
              "    }\n",
              "\n",
              "    .dataframe thead th {\n",
              "        text-align: right;\n",
              "    }\n",
              "</style>\n",
              "<table border=\"1\" class=\"dataframe\">\n",
              "  <thead>\n",
              "    <tr style=\"text-align: right;\">\n",
              "      <th></th>\n",
              "      <th>Metragem</th>\n",
              "      <th>Quartos</th>\n",
              "      <th>Banheiros</th>\n",
              "      <th>Vagas</th>\n",
              "    </tr>\n",
              "  </thead>\n",
              "  <tbody>\n",
              "    <tr>\n",
              "      <th>Metragem</th>\n",
              "      <td>1.000000</td>\n",
              "      <td>0.458296</td>\n",
              "      <td>0.576856</td>\n",
              "      <td>0.645479</td>\n",
              "    </tr>\n",
              "    <tr>\n",
              "      <th>Quartos</th>\n",
              "      <td>0.458296</td>\n",
              "      <td>1.000000</td>\n",
              "      <td>0.546269</td>\n",
              "      <td>0.390864</td>\n",
              "    </tr>\n",
              "    <tr>\n",
              "      <th>Banheiros</th>\n",
              "      <td>0.576856</td>\n",
              "      <td>0.546269</td>\n",
              "      <td>1.000000</td>\n",
              "      <td>0.529780</td>\n",
              "    </tr>\n",
              "    <tr>\n",
              "      <th>Vagas</th>\n",
              "      <td>0.645479</td>\n",
              "      <td>0.390864</td>\n",
              "      <td>0.529780</td>\n",
              "      <td>1.000000</td>\n",
              "    </tr>\n",
              "  </tbody>\n",
              "</table>\n",
              "</div>\n",
              "      <button class=\"colab-df-convert\" onclick=\"convertToInteractive('df-63793472-a335-409a-ad2b-23108561ce5c')\"\n",
              "              title=\"Convert this dataframe to an interactive table.\"\n",
              "              style=\"display:none;\">\n",
              "        \n",
              "  <svg xmlns=\"http://www.w3.org/2000/svg\" height=\"24px\"viewBox=\"0 0 24 24\"\n",
              "       width=\"24px\">\n",
              "    <path d=\"M0 0h24v24H0V0z\" fill=\"none\"/>\n",
              "    <path d=\"M18.56 5.44l.94 2.06.94-2.06 2.06-.94-2.06-.94-.94-2.06-.94 2.06-2.06.94zm-11 1L8.5 8.5l.94-2.06 2.06-.94-2.06-.94L8.5 2.5l-.94 2.06-2.06.94zm10 10l.94 2.06.94-2.06 2.06-.94-2.06-.94-.94-2.06-.94 2.06-2.06.94z\"/><path d=\"M17.41 7.96l-1.37-1.37c-.4-.4-.92-.59-1.43-.59-.52 0-1.04.2-1.43.59L10.3 9.45l-7.72 7.72c-.78.78-.78 2.05 0 2.83L4 21.41c.39.39.9.59 1.41.59.51 0 1.02-.2 1.41-.59l7.78-7.78 2.81-2.81c.8-.78.8-2.07 0-2.86zM5.41 20L4 18.59l7.72-7.72 1.47 1.35L5.41 20z\"/>\n",
              "  </svg>\n",
              "      </button>\n",
              "      \n",
              "  <style>\n",
              "    .colab-df-container {\n",
              "      display:flex;\n",
              "      flex-wrap:wrap;\n",
              "      gap: 12px;\n",
              "    }\n",
              "\n",
              "    .colab-df-convert {\n",
              "      background-color: #E8F0FE;\n",
              "      border: none;\n",
              "      border-radius: 50%;\n",
              "      cursor: pointer;\n",
              "      display: none;\n",
              "      fill: #1967D2;\n",
              "      height: 32px;\n",
              "      padding: 0 0 0 0;\n",
              "      width: 32px;\n",
              "    }\n",
              "\n",
              "    .colab-df-convert:hover {\n",
              "      background-color: #E2EBFA;\n",
              "      box-shadow: 0px 1px 2px rgba(60, 64, 67, 0.3), 0px 1px 3px 1px rgba(60, 64, 67, 0.15);\n",
              "      fill: #174EA6;\n",
              "    }\n",
              "\n",
              "    [theme=dark] .colab-df-convert {\n",
              "      background-color: #3B4455;\n",
              "      fill: #D2E3FC;\n",
              "    }\n",
              "\n",
              "    [theme=dark] .colab-df-convert:hover {\n",
              "      background-color: #434B5C;\n",
              "      box-shadow: 0px 1px 3px 1px rgba(0, 0, 0, 0.15);\n",
              "      filter: drop-shadow(0px 1px 2px rgba(0, 0, 0, 0.3));\n",
              "      fill: #FFFFFF;\n",
              "    }\n",
              "  </style>\n",
              "\n",
              "      <script>\n",
              "        const buttonEl =\n",
              "          document.querySelector('#df-63793472-a335-409a-ad2b-23108561ce5c button.colab-df-convert');\n",
              "        buttonEl.style.display =\n",
              "          google.colab.kernel.accessAllowed ? 'block' : 'none';\n",
              "\n",
              "        async function convertToInteractive(key) {\n",
              "          const element = document.querySelector('#df-63793472-a335-409a-ad2b-23108561ce5c');\n",
              "          const dataTable =\n",
              "            await google.colab.kernel.invokeFunction('convertToInteractive',\n",
              "                                                     [key], {});\n",
              "          if (!dataTable) return;\n",
              "\n",
              "          const docLinkHtml = 'Like what you see? Visit the ' +\n",
              "            '<a target=\"_blank\" href=https://colab.research.google.com/notebooks/data_table.ipynb>data table notebook</a>'\n",
              "            + ' to learn more about interactive tables.';\n",
              "          element.innerHTML = '';\n",
              "          dataTable['output_type'] = 'display_data';\n",
              "          await google.colab.output.renderOutput(dataTable, element);\n",
              "          const docLink = document.createElement('div');\n",
              "          docLink.innerHTML = docLinkHtml;\n",
              "          element.appendChild(docLink);\n",
              "        }\n",
              "      </script>\n",
              "    </div>\n",
              "  </div>\n",
              "  "
            ]
          },
          "metadata": {},
          "execution_count": 57
        }
      ]
    },
    {
      "cell_type": "code",
      "source": [
        "# Heatmap para visualizar as correlações\n",
        "# As correlações mais altas são em relação a quantidade de banheiros e tamanho da metragem\n",
        "plt.figure(figsize=(8,8))\n",
        "paleta = sns.color_palette(\"light:salmon\", as_cmap=True)\n",
        "sns.heatmap(df_corr.round(1), annot=True, cmap=paleta)"
      ],
      "metadata": {
        "colab": {
          "base_uri": "https://localhost:8080/",
          "height": 506
        },
        "id": "L4zaTRUDVN73",
        "outputId": "00d82bc3-42ef-47c5-a1e7-cba38481fe71"
      },
      "execution_count": null,
      "outputs": [
        {
          "output_type": "execute_result",
          "data": {
            "text/plain": [
              "<matplotlib.axes._subplots.AxesSubplot at 0x7fddc8177730>"
            ]
          },
          "metadata": {},
          "execution_count": 58
        },
        {
          "output_type": "display_data",
          "data": {
            "text/plain": [
              "<Figure size 576x576 with 2 Axes>"
            ],
            "image/png": "[encoded data removed]"
          },
          "metadata": {}
        }
      ]
    },
    {
      "cell_type": "markdown",
      "source": [
        "Regressão linear"
      ],
      "metadata": {
        "id": "zz6CrFiUNod7"
      }
    },
    {
      "cell_type": "code",
      "source": [
        "# Importação ml spark RL\n",
        "from pyspark.ml.regression import LinearRegression"
      ],
      "metadata": {
        "id": "GuRNSvCgVqDU"
      },
      "execution_count": null,
      "outputs": []
    },
    {
      "cell_type": "code",
      "source": [
        "# Definindo treino e teste\n",
        "treino, teste = dataset_prep.randomSplit([0.7, 0.3], seed=42)"
      ],
      "metadata": {
        "id": "t7MzgPOuWN72"
      },
      "execution_count": null,
      "outputs": []
    },
    {
      "cell_type": "code",
      "source": [
        "treino.count()"
      ],
      "metadata": {
        "colab": {
          "base_uri": "https://localhost:8080/"
        },
        "id": "0JAKFd0AWQuL",
        "outputId": "986912e5-cbc0-4a41-87f2-c621c9c5b668"
      },
      "execution_count": null,
      "outputs": [
        {
          "output_type": "execute_result",
          "data": {
            "text/plain": [
              "2558"
            ]
          },
          "metadata": {},
          "execution_count": 61
        }
      ]
    },
    {
      "cell_type": "code",
      "source": [
        "teste.count()\n"
      ],
      "metadata": {
        "colab": {
          "base_uri": "https://localhost:8080/"
        },
        "id": "V8s0Q4pTWnDr",
        "outputId": "39c1ff88-8069-4b40-ec20-188045a964a0"
      },
      "execution_count": null,
      "outputs": [
        {
          "output_type": "execute_result",
          "data": {
            "text/plain": [
              "1014"
            ]
          },
          "metadata": {},
          "execution_count": 62
        }
      ]
    },
    {
      "cell_type": "code",
      "source": [
        "# Criação do objeto regressor\n",
        "lr = LinearRegression()"
      ],
      "metadata": {
        "id": "P2MUBvCQWqM8"
      },
      "execution_count": null,
      "outputs": []
    },
    {
      "cell_type": "code",
      "source": [
        "# Ajuste dos dados\n",
        "modelo_lr = lr.fit(treino)"
      ],
      "metadata": {
        "id": "kXEVUvpZWyfZ"
      },
      "execution_count": null,
      "outputs": []
    },
    {
      "cell_type": "markdown",
      "source": [
        "Vendo as previsões"
      ],
      "metadata": {
        "id": "eBxGu24PSqZH"
      }
    },
    {
      "cell_type": "code",
      "source": [
        "# Gerando previsões\n",
        "previsoes_lr_treino = modelo_lr.transform(treino)\n",
        "\n",
        "previsoes_lr_treino.show()"
      ],
      "metadata": {
        "colab": {
          "base_uri": "https://localhost:8080/"
        },
        "id": "J5FQGKaOW05W",
        "outputId": "1ab9ae8e-9091-48cd-c4ad-a67040a3cb8b"
      },
      "execution_count": null,
      "outputs": [
        {
          "output_type": "stream",
          "name": "stdout",
          "text": [
            "+------------------+-----+-----------------+\n",
            "|          features|label|       prediction|\n",
            "+------------------+-----+-----------------+\n",
            "|[10.0,3.0,2.0,2.0]|800.0|657.2581315368346|\n",
            "|[20.0,3.0,2.0,2.0]|800.0|653.0404248987254|\n",
            "|[25.0,3.0,2.0,2.0]|800.0|650.9315715796708|\n",
            "|[29.0,1.0,1.0,1.0]|300.0|658.9862021406655|\n",
            "|[35.0,1.0,1.0,1.0]|  2.8|656.4555781577999|\n",
            "|[36.0,2.0,1.0,1.0]|196.0|673.8010475633329|\n",
            "|[37.0,1.0,2.0,1.0]|510.0|612.7818553753245|\n",
            "|[37.0,5.0,5.0,2.0]|690.0|552.9142593880672|\n",
            "|[40.0,1.0,1.0,1.0]|  2.8|654.3467248387453|\n",
            "|[42.0,5.0,5.0,2.0]|690.0|550.8054060690125|\n",
            "|[44.0,1.0,1.0,1.0]|345.0|652.6596421835015|\n",
            "|[45.0,1.0,1.0,1.0]|160.0|652.2378715196907|\n",
            "|[46.0,1.0,1.0,1.0]|250.0|651.8161008558798|\n",
            "|[46.0,2.0,2.0,1.0]|290.0|626.7531594703702|\n",
            "|[50.0,1.0,1.0,1.0]|289.0|650.1290182006361|\n",
            "|[50.0,2.0,1.0,1.0]|200.0|  667.89625826998|\n",
            "|[51.0,1.0,1.0,1.0]|250.0|649.7072475368252|\n",
            "|[55.0,3.0,1.0,1.0]|345.0|683.5546450202693|\n",
            "|[57.0,3.0,1.0,5.0]|350.0|672.9270560923568|\n",
            "|[60.0,1.0,1.0,1.0]|  2.1|645.9113115625269|\n",
            "+------------------+-----+-----------------+\n",
            "only showing top 20 rows\n",
            "\n"
          ]
        }
      ]
    },
    {
      "cell_type": "markdown",
      "source": [
        "Avaliação do modelo"
      ],
      "metadata": {
        "id": "lJhvJdQpOXdp"
      }
    },
    {
      "cell_type": "code",
      "source": [
        "# R2 para verificar quanto o modelo está ajustado aos dados\n",
        "resumo_treino = modelo_lr.summary\n",
        "resumo_treino.r2"
      ],
      "metadata": {
        "colab": {
          "base_uri": "https://localhost:8080/"
        },
        "id": "SQ0zqlNVW3mR",
        "outputId": "ae282a8f-d8ed-4fc6-d189-9a50507ddee4"
      },
      "execution_count": null,
      "outputs": [
        {
          "output_type": "execute_result",
          "data": {
            "text/plain": [
              "0.23676065412217295"
            ]
          },
          "metadata": {},
          "execution_count": 66
        }
      ]
    },
    {
      "cell_type": "code",
      "source": [
        "# RMSE para verificar o erro médio elevado ao quadrado\n",
        "resumo_treino.rootMeanSquaredError"
      ],
      "metadata": {
        "colab": {
          "base_uri": "https://localhost:8080/"
        },
        "id": "-gboKFFuXKdq",
        "outputId": "1bf0f0a0-5224-4cc5-96af-d1924c6e6f24"
      },
      "execution_count": null,
      "outputs": [
        {
          "output_type": "execute_result",
          "data": {
            "text/plain": [
              "282.14422653691366"
            ]
          },
          "metadata": {},
          "execution_count": 67
        }
      ]
    },
    {
      "cell_type": "code",
      "source": [
        "resumo_teste = modelo_lr.evaluate(teste)\n",
        "resumo_teste"
      ],
      "metadata": {
        "colab": {
          "base_uri": "https://localhost:8080/"
        },
        "id": "QetzAarAXZZW",
        "outputId": "553ced64-c2fd-401f-aca7-45b2b6dffc25"
      },
      "execution_count": null,
      "outputs": [
        {
          "output_type": "execute_result",
          "data": {
            "text/plain": [
              "<pyspark.ml.regression.LinearRegressionSummary at 0x7fddc7e06eb0>"
            ]
          },
          "metadata": {},
          "execution_count": 68
        }
      ]
    },
    {
      "cell_type": "code",
      "source": [
        "print('Linear Regression')\n",
        "print(\"=\"*30)\n",
        "print(\"Dados de Treino\")\n",
        "print(\"=\"*30)\n",
        "print(\"R²: %f\" % resumo_treino.r2)\n",
        "print(\"RMSE: %f\" % resumo_treino.rootMeanSquaredError)\n",
        "print(\"\")\n",
        "print(\"=\"*30)\n",
        "print(\"Dados de Teste\")\n",
        "print(\"=\"*30)\n",
        "print(\"R²: %f\" % resumo_teste.r2)\n",
        "print(\"RMSE: %f\" % resumo_teste.rootMeanSquaredError)"
      ],
      "metadata": {
        "colab": {
          "base_uri": "https://localhost:8080/"
        },
        "id": "wOBIcL9PXlci",
        "outputId": "9d812472-2319-4785-ccc9-f054d4f400ab"
      },
      "execution_count": null,
      "outputs": [
        {
          "output_type": "stream",
          "name": "stdout",
          "text": [
            "Linear Regression\n",
            "==============================\n",
            "Dados de Treino\n",
            "==============================\n",
            "R²: 0.236761\n",
            "RMSE: 282.144227\n",
            "\n",
            "==============================\n",
            "Dados de Teste\n",
            "==============================\n",
            "R²: 0.248821\n",
            "RMSE: 282.986881\n"
          ]
        }
      ]
    },
    {
      "cell_type": "markdown",
      "source": [
        "### Árvore de decisão"
      ],
      "metadata": {
        "id": "pcrxPblxrD_I"
      }
    },
    {
      "cell_type": "code",
      "source": [
        "# Importação ml spark - modelo Árvore de decisão\n",
        "from pyspark.ml.regression import DecisionTreeRegressor"
      ],
      "metadata": {
        "id": "qRC0_JTPYGv-"
      },
      "execution_count": null,
      "outputs": []
    },
    {
      "cell_type": "code",
      "source": [
        "# Criação do objeto regressor\n",
        "dtr = DecisionTreeRegressor(seed=101, maxDepth=7)"
      ],
      "metadata": {
        "id": "ncCkVxxVbFU_"
      },
      "execution_count": null,
      "outputs": []
    },
    {
      "cell_type": "code",
      "source": [
        "# Ajuste dos dados\n",
        "modelo_dtr = dtr.fit(treino)"
      ],
      "metadata": {
        "id": "TRiEJArSbIeg"
      },
      "execution_count": null,
      "outputs": []
    },
    {
      "cell_type": "markdown",
      "source": [
        "Vendo as previsões"
      ],
      "metadata": {
        "id": "VyYldwJCSZKW"
      }
    },
    {
      "cell_type": "code",
      "source": [
        "# Gerando previsão\n",
        "previsoes_dtr_treino = modelo_dtr.transform(treino)"
      ],
      "metadata": {
        "id": "ftCxy9HbbXBG"
      },
      "execution_count": null,
      "outputs": []
    },
    {
      "cell_type": "code",
      "source": [
        "previsoes_dtr_treino.show()"
      ],
      "metadata": {
        "colab": {
          "base_uri": "https://localhost:8080/"
        },
        "id": "fed0SDBpbZse",
        "outputId": "c8958408-2c74-4183-a7b8-135958e52a93"
      },
      "execution_count": null,
      "outputs": [
        {
          "output_type": "stream",
          "name": "stdout",
          "text": [
            "+------------------+-----+------------------+\n",
            "|          features|label|        prediction|\n",
            "+------------------+-----+------------------+\n",
            "|[10.0,3.0,2.0,2.0]|800.0|  579.312676056338|\n",
            "|[20.0,3.0,2.0,2.0]|800.0|  579.312676056338|\n",
            "|[25.0,3.0,2.0,2.0]|800.0|  579.312676056338|\n",
            "|[29.0,1.0,1.0,1.0]|300.0|178.43981818181817|\n",
            "|[35.0,1.0,1.0,1.0]|  2.8|178.43981818181817|\n",
            "|[36.0,2.0,1.0,1.0]|196.0|          343.1455|\n",
            "|[37.0,1.0,2.0,1.0]|510.0| 476.6865490196078|\n",
            "|[37.0,5.0,5.0,2.0]|690.0|  579.312676056338|\n",
            "|[40.0,1.0,1.0,1.0]|  2.8|178.43981818181817|\n",
            "|[42.0,5.0,5.0,2.0]|690.0|  579.312676056338|\n",
            "|[44.0,1.0,1.0,1.0]|345.0|178.43981818181817|\n",
            "|[45.0,1.0,1.0,1.0]|160.0|178.43981818181817|\n",
            "|[46.0,1.0,1.0,1.0]|250.0|178.43981818181817|\n",
            "|[46.0,2.0,2.0,1.0]|290.0| 476.6865490196078|\n",
            "|[50.0,1.0,1.0,1.0]|289.0|178.43981818181817|\n",
            "|[50.0,2.0,1.0,1.0]|200.0|          343.1455|\n",
            "|[51.0,1.0,1.0,1.0]|250.0|178.43981818181817|\n",
            "|[55.0,3.0,1.0,1.0]|345.0|          343.1455|\n",
            "|[57.0,3.0,1.0,5.0]|350.0|343.57142857142856|\n",
            "|[60.0,1.0,1.0,1.0]|  2.1|178.43981818181817|\n",
            "+------------------+-----+------------------+\n",
            "only showing top 20 rows\n",
            "\n"
          ]
        }
      ]
    },
    {
      "cell_type": "markdown",
      "source": [
        "# Importação do avaliador de regressão do Spark\n",
        "from pyspark.ml.evaluation import RegressionEvaluator"
      ],
      "metadata": {
        "id": "czKbPXf8bbrv"
      }
    },
    {
      "cell_type": "code",
      "source": [
        "evaluator = RegressionEvaluator()"
      ],
      "metadata": {
        "id": "oLRJRZFab0Zu"
      },
      "execution_count": null,
      "outputs": []
    },
    {
      "cell_type": "code",
      "source": [
        "# R2 e RMSE\n",
        "evaluator = RegressionEvaluator()\n",
        "\n",
        "print(evaluator.evaluate(previsoes_dtr_treino, {evaluator.metricName: \"r2\"}))\n",
        "print(evaluator.evaluate(previsoes_dtr_treino, {evaluator.metricName: \"rmse\"}))"
      ],
      "metadata": {
        "colab": {
          "base_uri": "https://localhost:8080/"
        },
        "id": "-250wUolb2gg",
        "outputId": "b46945f0-acc8-4ff8-ee7c-0d973924d3c1"
      },
      "execution_count": null,
      "outputs": [
        {
          "output_type": "stream",
          "name": "stdout",
          "text": [
            "0.5386687161221743\n",
            "219.3548521654708\n"
          ]
        }
      ]
    },
    {
      "cell_type": "code",
      "source": [
        "previsoes_dtr_teste = modelo_dtr.transform(teste)"
      ],
      "metadata": {
        "id": "a24wuO0i2Q-a"
      },
      "execution_count": null,
      "outputs": []
    },
    {
      "cell_type": "code",
      "source": [
        "print('Decision Tree Regression')\n",
        "print(\"=\"*30)\n",
        "print(\"Dados de Treino\")\n",
        "print(\"=\"*30)\n",
        "print(\"R²: %f\" % evaluator.evaluate(previsoes_dtr_treino, {evaluator.metricName: \"r2\"}))\n",
        "print(\"RMSE: %f\" % evaluator.evaluate(previsoes_dtr_treino, {evaluator.metricName: \"rmse\"}))\n",
        "print(\"\")\n",
        "print(\"=\"*30)\n",
        "print(\"Dados de Teste\")\n",
        "print(\"=\"*30)\n",
        "print(\"R²: %f\" % evaluator.evaluate(previsoes_dtr_teste, {evaluator.metricName: \"r2\"}))\n",
        "print(\"RMSE: %f\" % evaluator.evaluate(previsoes_dtr_teste, {evaluator.metricName: \"rmse\"}))"
      ],
      "metadata": {
        "colab": {
          "base_uri": "https://localhost:8080/"
        },
        "id": "_QkcGfbJcBdD",
        "outputId": "afe6f3af-4e1a-4272-d032-ad3c23fdf2af"
      },
      "execution_count": null,
      "outputs": [
        {
          "output_type": "stream",
          "name": "stdout",
          "text": [
            "Decision Tree Regression\n",
            "==============================\n",
            "Dados de Treino\n",
            "==============================\n",
            "R²: 0.538669\n",
            "RMSE: 219.354852\n",
            "\n",
            "==============================\n",
            "Dados de Teste\n",
            "==============================\n",
            "R²: 0.422926\n",
            "RMSE: 248.033530\n"
          ]
        }
      ]
    }
  ]
}